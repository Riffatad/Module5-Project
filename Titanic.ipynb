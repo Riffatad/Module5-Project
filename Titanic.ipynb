{
 "cells": [
  {
   "cell_type": "code",
   "execution_count": 11,
   "id": "d3ea661f-d58e-461a-9f82-54bd85dc1955",
   "metadata": {},
   "outputs": [],
   "source": [
    "# Import the modules\n",
    "import numpy as np\n",
    "import pandas as pd\n",
    "from pathlib import Path\n",
    "import seaborn as sns\n",
    "import pickle\n",
    "import matplotlib.pyplot as plt\n",
    "from sklearn.metrics import confusion_matrix, classification_report\n",
    "from sklearn.preprocessing import LabelEncoder, MinMaxScaler\n",
    "from sklearn.preprocessing import StandardScaler"
   ]
  },
  {
   "cell_type": "code",
   "execution_count": 12,
   "id": "38c4476a-bc3b-4662-a562-c134404148d3",
   "metadata": {},
   "outputs": [
    {
     "data": {
      "text/html": [
       "<div>\n",
       "<style scoped>\n",
       "    .dataframe tbody tr th:only-of-type {\n",
       "        vertical-align: middle;\n",
       "    }\n",
       "\n",
       "    .dataframe tbody tr th {\n",
       "        vertical-align: top;\n",
       "    }\n",
       "\n",
       "    .dataframe thead th {\n",
       "        text-align: right;\n",
       "    }\n",
       "</style>\n",
       "<table border=\"1\" class=\"dataframe\">\n",
       "  <thead>\n",
       "    <tr style=\"text-align: right;\">\n",
       "      <th></th>\n",
       "      <th>PassengerId</th>\n",
       "      <th>Survived</th>\n",
       "      <th>Pclass</th>\n",
       "      <th>Name</th>\n",
       "      <th>Sex</th>\n",
       "      <th>Age</th>\n",
       "      <th>SibSp</th>\n",
       "      <th>Parch</th>\n",
       "      <th>Ticket</th>\n",
       "      <th>Fare</th>\n",
       "      <th>Cabin</th>\n",
       "      <th>Embarked</th>\n",
       "    </tr>\n",
       "  </thead>\n",
       "  <tbody>\n",
       "    <tr>\n",
       "      <th>0</th>\n",
       "      <td>1</td>\n",
       "      <td>0</td>\n",
       "      <td>3</td>\n",
       "      <td>Braund, Mr. Owen Harris</td>\n",
       "      <td>male</td>\n",
       "      <td>22.0</td>\n",
       "      <td>1</td>\n",
       "      <td>0</td>\n",
       "      <td>A/5 21171</td>\n",
       "      <td>7.2500</td>\n",
       "      <td>NaN</td>\n",
       "      <td>S</td>\n",
       "    </tr>\n",
       "    <tr>\n",
       "      <th>1</th>\n",
       "      <td>2</td>\n",
       "      <td>1</td>\n",
       "      <td>1</td>\n",
       "      <td>Cumings, Mrs. John Bradley (Florence Briggs Th...</td>\n",
       "      <td>female</td>\n",
       "      <td>38.0</td>\n",
       "      <td>1</td>\n",
       "      <td>0</td>\n",
       "      <td>PC 17599</td>\n",
       "      <td>71.2833</td>\n",
       "      <td>C85</td>\n",
       "      <td>C</td>\n",
       "    </tr>\n",
       "    <tr>\n",
       "      <th>2</th>\n",
       "      <td>3</td>\n",
       "      <td>1</td>\n",
       "      <td>3</td>\n",
       "      <td>Heikkinen, Miss. Laina</td>\n",
       "      <td>female</td>\n",
       "      <td>26.0</td>\n",
       "      <td>0</td>\n",
       "      <td>0</td>\n",
       "      <td>STON/O2. 3101282</td>\n",
       "      <td>7.9250</td>\n",
       "      <td>NaN</td>\n",
       "      <td>S</td>\n",
       "    </tr>\n",
       "    <tr>\n",
       "      <th>3</th>\n",
       "      <td>4</td>\n",
       "      <td>1</td>\n",
       "      <td>1</td>\n",
       "      <td>Futrelle, Mrs. Jacques Heath (Lily May Peel)</td>\n",
       "      <td>female</td>\n",
       "      <td>35.0</td>\n",
       "      <td>1</td>\n",
       "      <td>0</td>\n",
       "      <td>113803</td>\n",
       "      <td>53.1000</td>\n",
       "      <td>C123</td>\n",
       "      <td>S</td>\n",
       "    </tr>\n",
       "    <tr>\n",
       "      <th>4</th>\n",
       "      <td>5</td>\n",
       "      <td>0</td>\n",
       "      <td>3</td>\n",
       "      <td>Allen, Mr. William Henry</td>\n",
       "      <td>male</td>\n",
       "      <td>35.0</td>\n",
       "      <td>0</td>\n",
       "      <td>0</td>\n",
       "      <td>373450</td>\n",
       "      <td>8.0500</td>\n",
       "      <td>NaN</td>\n",
       "      <td>S</td>\n",
       "    </tr>\n",
       "  </tbody>\n",
       "</table>\n",
       "</div>"
      ],
      "text/plain": [
       "   PassengerId  Survived  Pclass  \\\n",
       "0            1         0       3   \n",
       "1            2         1       1   \n",
       "2            3         1       3   \n",
       "3            4         1       1   \n",
       "4            5         0       3   \n",
       "\n",
       "                                                Name     Sex   Age  SibSp  \\\n",
       "0                            Braund, Mr. Owen Harris    male  22.0      1   \n",
       "1  Cumings, Mrs. John Bradley (Florence Briggs Th...  female  38.0      1   \n",
       "2                             Heikkinen, Miss. Laina  female  26.0      0   \n",
       "3       Futrelle, Mrs. Jacques Heath (Lily May Peel)  female  35.0      1   \n",
       "4                           Allen, Mr. William Henry    male  35.0      0   \n",
       "\n",
       "   Parch            Ticket     Fare Cabin Embarked  \n",
       "0      0         A/5 21171   7.2500   NaN        S  \n",
       "1      0          PC 17599  71.2833   C85        C  \n",
       "2      0  STON/O2. 3101282   7.9250   NaN        S  \n",
       "3      0            113803  53.1000  C123        S  \n",
       "4      0            373450   8.0500   NaN        S  "
      ]
     },
     "execution_count": 12,
     "metadata": {},
     "output_type": "execute_result"
    }
   ],
   "source": [
    "# Read the CSV file from the Resources folder into a Pandas DataFrame\n",
    "file_path = Path(\"Titanic-Dataset.csv\")\n",
    "Titanic_data = pd.read_csv(file_path)\n",
    "\n",
    "# Review the DataFrame\n",
    "Titanic_data.head()"
   ]
  },
  {
   "cell_type": "code",
   "execution_count": 13,
   "id": "b745dcab-cbc7-413d-bf36-298947656255",
   "metadata": {},
   "outputs": [],
   "source": [
    "#Making a copy\n",
    "Titanic_data=Titanic_data.dropna().copy() # making sure we work on a copy\n",
    "\n",
    "# Encoding categoirical variables\n",
    "categorical_column=['Name','Sex','Ticket']\n",
    "categorical_existing_column=[col\n",
    "                             for col in categorical_column\n",
    "                             if col in Titanic_data.columns]\n",
    "\n",
    "# LabelEncoder() converts categorical variables into numbers\n",
    "\n",
    "encoders={} # Encoders to resuse for predictions\n",
    "for col in categorical_existing_column:\n",
    "    le=LabelEncoder()\n",
    "    Titanic_data[col]=le.fit_transform(Titanic_data[col].astype(str))\n",
    "    encoders[col]=le # it saves encoder"
   ]
  },
  {
   "cell_type": "code",
   "execution_count": 14,
   "id": "d69dec1f-0444-4f14-b2f0-71d12de1b1cd",
   "metadata": {},
   "outputs": [
    {
     "data": {
      "text/plain": [
       "['Name', 'Sex', 'Ticket']"
      ]
     },
     "execution_count": 14,
     "metadata": {},
     "output_type": "execute_result"
    }
   ],
   "source": [
    "# This step scaling numemerical feature\n",
    "\n",
    "numerical_column=['PassengerId', 'Survived' , ' Pclass', 'Age', 'Sibsp', 'Parch']\n",
    "categorical_existing_column"
   ]
  },
  {
   "cell_type": "code",
   "execution_count": 15,
   "id": "14780926-93f6-4c1b-8e81-dc0b6e1a8d48",
   "metadata": {},
   "outputs": [
    {
     "name": "stdout",
     "output_type": "stream",
     "text": [
      " Preprocessing completed successfully.\n"
     ]
    }
   ],
   "source": [
    "# Recognize numerical columns (Budget, Duration, etc.)\n",
    "\n",
    "#  Scaling of numerical features\n",
    "numerical_column = ['PassengerId', 'Survived', 'Pclass', 'Age', 'SibSp', 'Parch']\n",
    "existing_numerical_column = [col \n",
    "                               for col in numerical_cols \n",
    "                               if col in Titanic_data.columns]\n",
    "\n",
    "#When no numerical column exists the scaler will be set to none\n",
    "if existing_numerical_column:\n",
    "        scaler = MinMaxScaler() # use of MinMaxScaler() to make the date normal between 0 and 1\n",
    "        Titanic_data[existing_numerical_column] = scaler.fit_transform(Titanic_data[existing_numerical_column])\n",
    "else:\n",
    "        scaler = None  # No scaling if no numerical columns exist\n",
    "\n",
    "# Save encoders & scaler for reuse in predictions\n",
    "#Saves categorical encoders (label_encoders.pkl) for reuse during predictions.\n",
    "# Saves the numerical scaler (scaler.pkl) so the test data can be transformed in the same way\n",
    "    \n",
    "with open(\"label_encoders.pkl\", \"wb\") as f:\n",
    "        pickle.dump(encoders, f)\n",
    "\n",
    "if scaler:\n",
    "        with open(\"scaler.pkl\", \"wb\") as f:\n",
    "            pickle.dump(scaler, f)\n",
    "\n",
    "print(\" Preprocessing completed successfully.\")"
   ]
  },
  {
   "cell_type": "code",
   "execution_count": 16,
   "id": "39d33dd0-c063-4707-b681-e65cee6856e7",
   "metadata": {},
   "outputs": [],
   "source": [
    "# Now lets divide or separte the data into\n",
    "#y variable, the label\n",
    "y=Titanic_data[\"Embarked\"]\n",
    "\n",
    "#X variable, the fearure\n",
    "X=Titanic_data.drop(columns=[\"Embarked\"])"
   ]
  },
  {
   "cell_type": "code",
   "execution_count": 17,
   "id": "2a02cde5-1723-42fc-a4a6-ebceb1273402",
   "metadata": {},
   "outputs": [
    {
     "data": {
      "text/plain": [
       "1     C\n",
       "3     S\n",
       "6     S\n",
       "10    S\n",
       "11    S\n",
       "Name: Embarked, dtype: object"
      ]
     },
     "execution_count": 17,
     "metadata": {},
     "output_type": "execute_result"
    }
   ],
   "source": [
    "y.head()"
   ]
  },
  {
   "cell_type": "code",
   "execution_count": 18,
   "id": "4e27cb56-fbdf-446b-8305-f3d6020d9877",
   "metadata": {},
   "outputs": [
    {
     "data": {
      "text/html": [
       "<div>\n",
       "<style scoped>\n",
       "    .dataframe tbody tr th:only-of-type {\n",
       "        vertical-align: middle;\n",
       "    }\n",
       "\n",
       "    .dataframe tbody tr th {\n",
       "        vertical-align: top;\n",
       "    }\n",
       "\n",
       "    .dataframe thead th {\n",
       "        text-align: right;\n",
       "    }\n",
       "</style>\n",
       "<table border=\"1\" class=\"dataframe\">\n",
       "  <thead>\n",
       "    <tr style=\"text-align: right;\">\n",
       "      <th></th>\n",
       "      <th>PassengerId</th>\n",
       "      <th>Survived</th>\n",
       "      <th>Pclass</th>\n",
       "      <th>Name</th>\n",
       "      <th>Sex</th>\n",
       "      <th>Age</th>\n",
       "      <th>SibSp</th>\n",
       "      <th>Parch</th>\n",
       "      <th>Ticket</th>\n",
       "      <th>Fare</th>\n",
       "      <th>Cabin</th>\n",
       "    </tr>\n",
       "  </thead>\n",
       "  <tbody>\n",
       "    <tr>\n",
       "      <th>1</th>\n",
       "      <td>0.000000</td>\n",
       "      <td>1.0</td>\n",
       "      <td>0.0</td>\n",
       "      <td>49</td>\n",
       "      <td>0</td>\n",
       "      <td>0.468892</td>\n",
       "      <td>0.333333</td>\n",
       "      <td>0.00</td>\n",
       "      <td>109</td>\n",
       "      <td>71.2833</td>\n",
       "      <td>C85</td>\n",
       "    </tr>\n",
       "    <tr>\n",
       "      <th>3</th>\n",
       "      <td>0.002252</td>\n",
       "      <td>1.0</td>\n",
       "      <td>0.0</td>\n",
       "      <td>70</td>\n",
       "      <td>0</td>\n",
       "      <td>0.430956</td>\n",
       "      <td>0.333333</td>\n",
       "      <td>0.00</td>\n",
       "      <td>31</td>\n",
       "      <td>53.1000</td>\n",
       "      <td>C123</td>\n",
       "    </tr>\n",
       "    <tr>\n",
       "      <th>6</th>\n",
       "      <td>0.005631</td>\n",
       "      <td>0.0</td>\n",
       "      <td>0.0</td>\n",
       "      <td>112</td>\n",
       "      <td>1</td>\n",
       "      <td>0.671219</td>\n",
       "      <td>0.000000</td>\n",
       "      <td>0.00</td>\n",
       "      <td>55</td>\n",
       "      <td>51.8625</td>\n",
       "      <td>E46</td>\n",
       "    </tr>\n",
       "    <tr>\n",
       "      <th>10</th>\n",
       "      <td>0.010135</td>\n",
       "      <td>1.0</td>\n",
       "      <td>1.0</td>\n",
       "      <td>148</td>\n",
       "      <td>0</td>\n",
       "      <td>0.038948</td>\n",
       "      <td>0.333333</td>\n",
       "      <td>0.25</td>\n",
       "      <td>120</td>\n",
       "      <td>16.7000</td>\n",
       "      <td>G6</td>\n",
       "    </tr>\n",
       "    <tr>\n",
       "      <th>11</th>\n",
       "      <td>0.011261</td>\n",
       "      <td>1.0</td>\n",
       "      <td>0.0</td>\n",
       "      <td>27</td>\n",
       "      <td>0</td>\n",
       "      <td>0.721801</td>\n",
       "      <td>0.000000</td>\n",
       "      <td>0.00</td>\n",
       "      <td>26</td>\n",
       "      <td>26.5500</td>\n",
       "      <td>C103</td>\n",
       "    </tr>\n",
       "  </tbody>\n",
       "</table>\n",
       "</div>"
      ],
      "text/plain": [
       "    PassengerId  Survived  Pclass  Name  Sex       Age     SibSp  Parch  \\\n",
       "1      0.000000       1.0     0.0    49    0  0.468892  0.333333   0.00   \n",
       "3      0.002252       1.0     0.0    70    0  0.430956  0.333333   0.00   \n",
       "6      0.005631       0.0     0.0   112    1  0.671219  0.000000   0.00   \n",
       "10     0.010135       1.0     1.0   148    0  0.038948  0.333333   0.25   \n",
       "11     0.011261       1.0     0.0    27    0  0.721801  0.000000   0.00   \n",
       "\n",
       "    Ticket     Fare Cabin  \n",
       "1      109  71.2833   C85  \n",
       "3       31  53.1000  C123  \n",
       "6       55  51.8625   E46  \n",
       "10     120  16.7000    G6  \n",
       "11      26  26.5500  C103  "
      ]
     },
     "execution_count": 18,
     "metadata": {},
     "output_type": "execute_result"
    }
   ],
   "source": [
    "X.head()"
   ]
  },
  {
   "cell_type": "code",
   "execution_count": 32,
   "id": "c31719fc-5df0-457c-a5a2-5515d064ec93",
   "metadata": {},
   "outputs": [
    {
     "name": "stdout",
     "output_type": "stream",
     "text": [
      "Training features shape (y_train): (137,)\n",
      "Testing features shape (y_test): (46,)\n",
      "Training features shape(X_train): (137, 7)\n",
      "Training features shape (X_test): (46, 7)\n"
     ]
    }
   ],
   "source": [
    "# Import train_test_learn module\n",
    "from sklearn.model_selection import train_test_split\n",
    "\n",
    "#Now lets divide or split the data \n",
    "Size_Test= 0.25 # 25% data for testing\n",
    "State_Random= 1 # Making sure the reproductibility \n",
    "X_train, X_test, y_train, y_test = train_test_split(X, y, test_size=0.25, random_state=1)\n",
    "\n",
    "# Printing results to verify the split of data\n",
    "print(f\"Training features shape (y_train): {y_train.shape}\")\n",
    "print(f\"Testing features shape (y_test): {y_test.shape}\")\n",
    "print(f\"Training features shape(X_train): {X_train.shape}\")\n",
    "print(f\"Training features shape (X_test): {X_test.shape}\")"
   ]
  },
  {
   "cell_type": "code",
   "execution_count": 33,
   "id": "cd3fab78-7ba4-41bb-b0d7-b36e21b8f209",
   "metadata": {},
   "outputs": [],
   "source": [
    "#Dropping non relavent columns\n",
    "Titanic_data= Titanic_data.drop(columns=['PassengerId','Name','Ticket', 'Cabin'], errors='ignore')                                   "
   ]
  },
  {
   "cell_type": "code",
   "execution_count": 31,
   "id": "8a529814-e6b8-4df0-81b9-14e18490191b",
   "metadata": {},
   "outputs": [],
   "source": [
    "X= Titanic_data.drop(columns=['Survived']) #Features\n",
    "y= Titanic_data['Survived'] # Target"
   ]
  },
  {
   "cell_type": "code",
   "execution_count": null,
   "id": "a83f7f3e-30b4-4be4-a793-635c59e39765",
   "metadata": {},
   "outputs": [],
   "source": []
  }
 ],
 "metadata": {
  "kernelspec": {
   "display_name": "Python 3 (ipykernel)",
   "language": "python",
   "name": "python3"
  },
  "language_info": {
   "codemirror_mode": {
    "name": "ipython",
    "version": 3
   },
   "file_extension": ".py",
   "mimetype": "text/x-python",
   "name": "python",
   "nbconvert_exporter": "python",
   "pygments_lexer": "ipython3",
   "version": "3.10.14"
  }
 },
 "nbformat": 4,
 "nbformat_minor": 5
}
